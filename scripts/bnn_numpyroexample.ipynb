{
 "cells": [
  {
   "cell_type": "markdown",
   "metadata": {
    "id": "FqmrypXDEqK6"
   },
   "source": [
    "# Bayesian neural networks"
   ]
  },
  {
   "cell_type": "markdown",
   "metadata": {
    "id": "d4qn0nvhEqK8"
   },
   "source": [
    "We will consider fitting a Bayesian neural network to some toy data using `numpyro`.\n",
    "\n",
    "Let's start by loading the required packages."
   ]
  },
  {
   "cell_type": "code",
   "execution_count": null,
   "metadata": {
    "id": "58vSdHjEEqK9"
   },
   "outputs": [],
   "source": [
    "import os\n",
    "import time\n",
    "\n",
    "import matplotlib.pyplot as plt\n",
    "import numpy as np\n",
    "\n",
    "import jax\n",
    "import jax.numpy as jnp\n",
    "import jax.random as random\n",
    "\n",
    "from sklearn.preprocessing import StandardScaler\n",
    "\n",
    "!pip install numpyro\n",
    "import numpyro\n",
    "import numpyro.optim as optim\n",
    "from numpyro import deterministic\n",
    "\n",
    "import numpyro.distributions as dist\n",
    "from numpyro.infer import MCMC, NUTS, SVI, Predictive, Trace_ELBO\n",
    "from numpyro.infer.autoguide import AutoNormal, AutoMultivariateNormal, AutoDelta\n"
   ]
  },
  {
   "cell_type": "markdown",
   "metadata": {
    "id": "rFWEQOp-EqK-"
   },
   "source": [
    "## Toy data\n",
    "\n",
    "We start by generating data in a simple one-dimensional input and output setting. The inputs are generated from a uniform distribution, and the outputs are generated as noisy observation of the function $y=(x+2)^2(x/1-1)$ or $y = x^2$."
   ]
  },
  {
   "cell_type": "code",
   "execution_count": null,
   "metadata": {
    "id": "R1dO30cPEqK_"
   },
   "outputs": [],
   "source": [
    "def function_true2(input):\n",
    "  return jnp.power(input +2, 2.0)*(input/2-1)\n",
    "\n",
    "def function_true(input):\n",
    "  return jnp.power(input, 2.0)\n"
   ]
  },
  {
   "cell_type": "code",
   "execution_count": null,
   "metadata": {
    "colab": {
     "base_uri": "https://localhost:8080/",
     "height": 294
    },
    "id": "GI6865g_EqK_",
    "outputId": "dcc8e841-d82f-4d01-a49e-359048032605"
   },
   "outputs": [],
   "source": [
    "N = 500 # sample size\n",
    "\n",
    "# Generate inputs\n",
    "X_train = random.uniform(random.PRNGKey(0), shape=(N,),  minval=-4, maxval=4)\n",
    "\n",
    "# Generate outputs\n",
    "sigma = 1\n",
    "m_Y = function_true2(X_train)\n",
    "# or m_Y = function_true2(X\n",
    "y_train =  m_Y + sigma*random.normal(random.PRNGKey(1), shape=(N,))\n",
    "\n",
    "# Plot the data\n",
    "x_idx = jnp.argsort(X_train)\n",
    "fig = plt.figure(figsize=(4, 3))\n",
    "plt.plot(X_train[x_idx], m_Y[x_idx],  label = 'True function')\n",
    "plt.scatter(X_train, y_train, marker = '.', linewidths = 0.1, label = 'Data')\n",
    "plt.fill_between(X_train[x_idx], (m_Y - 2*sigma)[x_idx], (m_Y + 2*sigma)[x_idx], alpha = 0.2, label = r'true $\\pm 2 \\sigma$')\n",
    "plt.legend()\n",
    "plt.show()\n"
   ]
  },
  {
   "cell_type": "markdown",
   "metadata": {
    "id": "elFsvaTgEqLA"
   },
   "source": [
    "Let's generate the test data."
   ]
  },
  {
   "cell_type": "code",
   "execution_count": null,
   "metadata": {
    "colab": {
     "base_uri": "https://localhost:8080/",
     "height": 545
    },
    "id": "wfOFphm2EqLA",
    "outputId": "9d283980-53df-443e-9203-a9fef1cca38d"
   },
   "outputs": [],
   "source": [
    "N_test = 400 # sample size\n",
    "\n",
    "# Generate test inputs\n",
    "X_test = random.uniform(random.PRNGKey(0), shape=(N_test,),  minval=-4, maxval=4)\n",
    "\n",
    "# Generate test outputs\n",
    "m_Yt = function_true2(X_test)\n",
    "# or m_Y = function_true2(X\n",
    "y_test =  m_Yt + sigma*random.normal(random.PRNGKey(1), shape=(N_test,))\n",
    "\n",
    "\n",
    "# Plot the training and test data together\n",
    "fig, axs = plt.subplots(2,1,figsize=(4, 5), layout=\"constrained\")\n",
    "\n",
    "axs[0].scatter(x=X_train, y=y_train,  marker = '.', linewidths = 0.1, label=\"train\")\n",
    "axs[0].legend(loc=\"upper left\")\n",
    "axs[0].set(xlabel=\"x\", ylabel=\"y\")\n",
    "axs[1].scatter(x=X_test, y=y_test,  marker = '.', linewidths = 0.1, label=\"test\")\n",
    "axs[1].legend(loc=\"upper left\")\n",
    "axs[1].set(xlabel=\"x\", ylabel=\"y\")"
   ]
  },
  {
   "cell_type": "markdown",
   "metadata": {
    "id": "lttjfOXkEqLA"
   },
   "source": [
    "Let's rescale the data before fitting."
   ]
  },
  {
   "cell_type": "code",
   "execution_count": null,
   "metadata": {
    "colab": {
     "base_uri": "https://localhost:8080/",
     "height": 545
    },
    "id": "P8JreIb2EqLB",
    "outputId": "777c8c16-fedb-4d69-fce4-f9e3be7408d4"
   },
   "outputs": [],
   "source": [
    "x_scaler = StandardScaler()\n",
    "x_train_scaled = x_scaler.fit_transform(X_train[:, None])\n",
    "x_train_scaled = jnp.array(x_train_scaled)\n",
    "x_test_scaled = x_scaler.transform(X_test[:, None])\n",
    "x_test_scaled = jnp.array(x_test_scaled)\n",
    "\n",
    "fig, axs = plt.subplots(2,1,figsize=(4, 5), layout=\"constrained\")\n",
    "\n",
    "axs[0].scatter(x=x_train_scaled, y=y_train,  marker = '.', linewidths = 0.1, label=\"train\")\n",
    "axs[0].legend(loc=\"upper left\")\n",
    "axs[0].set(xlabel=\"x scaled\", ylabel=\"y\")\n",
    "axs[1].scatter(x=x_test_scaled, y=y_test,  marker = '.', linewidths = 0.1, label=\"test\")\n",
    "axs[1].legend(loc=\"upper left\")\n",
    "axs[1].set(xlabel=\"x scaled\", ylabel=\"y\")\n"
   ]
  },
  {
   "cell_type": "markdown",
   "metadata": {
    "id": "HknrTTWuEqLB"
   },
   "source": [
    "### BNN model\n",
    "\n",
    "Let's build a simple BNN following this [paper](https://jmhl.org/wp-content/uploads/2015/05/pbp-icml2015.pdf), with code mostly from [numpyro documentation](https://num.pyro.ai/en/stable/examples/stein_bnn.html)"
   ]
  },
  {
   "cell_type": "code",
   "execution_count": null,
   "metadata": {
    "id": "VYzgfZSXEqLB"
   },
   "outputs": [],
   "source": [
    "def model(x, y=None, hidden_dim=10):\n",
    "\n",
    "\n",
    "    prec_nn = numpyro.sample(\n",
    "        \"prec_nn\", dist.Gamma(6.0, 6.0)\n",
    "    )  # hyper prior for precision of nn weights and biases\n",
    "\n",
    "    n, m = x.shape\n",
    "\n",
    "    with numpyro.plate(\"l1_hidden\", hidden_dim, dim=-1):\n",
    "        # prior l=1 bias term\n",
    "        b1 = numpyro.sample(\n",
    "            \"nn_b1\",\n",
    "            dist.Normal(\n",
    "                0.0,\n",
    "                1.0 / jnp.sqrt(prec_nn*(m+1)),\n",
    "            ),\n",
    "        )\n",
    "        assert b1.shape == (hidden_dim,)\n",
    "\n",
    "        with numpyro.plate(\"l1_feat\", m, dim=-2):\n",
    "            w1 = numpyro.sample(\n",
    "                \"nn_w1\", dist.Normal(0.0, 1.0 / jnp.sqrt(prec_nn*(m+1)))\n",
    "            )  # prior on l=1 weights\n",
    "            assert w1.shape == (m, hidden_dim)\n",
    "\n",
    "    with numpyro.plate(\"l2_hidden\", hidden_dim, dim=-1):\n",
    "        w2 = numpyro.sample(\n",
    "            \"nn_w2\", dist.Normal(0.0, 1.0 / jnp.sqrt(prec_nn*(hidden_dim+1)))\n",
    "        )  # prior on output weights\n",
    "\n",
    "    b2 = numpyro.sample(\n",
    "        \"nn_b2\", dist.Normal(0.0, 1.0 / jnp.sqrt(prec_nn*(hidden_dim+1)))\n",
    "    )  # prior on output bias term\n",
    "\n",
    "    # precision prior on observations\n",
    "    prec_obs = numpyro.sample(\"prec_obs\", dist.Gamma(6, 6))\n",
    "\n",
    "    loc_y = deterministic(\"y_pred\", jnp.maximum(x @ w1 + b1, 0) @ w2 + b2)\n",
    "\n",
    "    with numpyro.plate( \"data\", x.shape[0], dim=-1):\n",
    "\n",
    "        numpyro.sample( \"y\",\n",
    "            dist.Normal(loc_y, 1.0 / jnp.sqrt(prec_obs)),  obs=y,)"
   ]
  },
  {
   "cell_type": "code",
   "execution_count": null,
   "metadata": {
    "colab": {
     "base_uri": "https://localhost:8080/",
     "height": 588
    },
    "id": "7d0qYZjIEqLC",
    "outputId": "c66befb0-0f7f-438d-b0e1-2dece2e9550e"
   },
   "outputs": [],
   "source": [
    "numpyro.render_model(model, model_args=(x_train_scaled, y_train, 20),\n",
    "    render_distributions=True,\n",
    "    render_params=True,)"
   ]
  },
  {
   "cell_type": "markdown",
   "metadata": {
    "id": "gxxyCW8kEqLC"
   },
   "source": [
    "## SVI\n",
    "\n",
    "Now, we will use SVI to approximate the posterior. Note that the variational posterior is called `guide`. For details, see http://pyro.ai/examples/svi_part_i.html. Here we are assuming a (diagonal) normal using `AutoNormal`. For other automatic guide options, see https://num.pyro.ai/en/stable/autoguide.html."
   ]
  },
  {
   "cell_type": "code",
   "execution_count": null,
   "metadata": {
    "id": "Y8gf2Ww-EqLC"
   },
   "outputs": [],
   "source": [
    "numpyro.set_platform('cpu')\n",
    "rng_key, rng_key_predict = random.split(random.PRNGKey(0))"
   ]
  },
  {
   "cell_type": "code",
   "execution_count": null,
   "metadata": {
    "id": "weYceQvJEqLC"
   },
   "outputs": [],
   "source": [
    "def do_SVI(model, rng_key, numsteps, x, y, hidden_dim):\n",
    "    guide = AutoNormal(model)\n",
    "    optimizer = optim.Adam(0.01)\n",
    "    svi = SVI(model, guide, optimizer, Trace_ELBO())\n",
    "    svi_results = svi.run(rng_key = rng_key, num_steps = numsteps, x=x, y = y, hidden_dim = hidden_dim)\n",
    "    params = svi_results.params\n",
    "    losses = svi_results.losses\n",
    "    return losses, params, guide\n",
    "\n"
   ]
  },
  {
   "cell_type": "code",
   "execution_count": null,
   "metadata": {
    "id": "NaZyxszsEqLD"
   },
   "outputs": [],
   "source": [
    "D_h = 20\n",
    "numsteps= 1000\n",
    "num_samples=2000"
   ]
  },
  {
   "cell_type": "code",
   "execution_count": null,
   "metadata": {
    "colab": {
     "base_uri": "https://localhost:8080/"
    },
    "id": "mot-DmKVEqLD",
    "outputId": "5dab21ad-dd28-466d-fd37-fae88aa4c039"
   },
   "outputs": [],
   "source": [
    "svi_losses, svi_params, svi_guide = do_SVI(model=model, rng_key=rng_key, numsteps=numsteps, x = x_train_scaled, y = y_train, hidden_dim=D_h)"
   ]
  },
  {
   "cell_type": "code",
   "execution_count": null,
   "metadata": {
    "id": "VsSCfEX0EqLD"
   },
   "outputs": [],
   "source": [
    "posterior_predictive = Predictive(model=model, guide=svi_guide, params=svi_params, num_samples=num_samples)\n",
    "svi_predictions = posterior_predictive(rng_key = rng_key_predict, x=x_test_scaled, y=None, hidden_dim=D_h)"
   ]
  },
  {
   "cell_type": "markdown",
   "metadata": {
    "id": "n4OuMC6XM-BT"
   },
   "source": [
    "Let's see visualize the predictions and uncertainty."
   ]
  },
  {
   "cell_type": "code",
   "execution_count": null,
   "metadata": {
    "colab": {
     "base_uri": "https://localhost:8080/",
     "height": 645
    },
    "id": "g_g30scyEqLD",
    "outputId": "7008685d-5854-4b68-b69f-acf00b0d89c5"
   },
   "outputs": [],
   "source": [
    "# Extract the mean and standard deviation for the predictions on the test data\n",
    "mean_pred = jnp.mean(svi_predictions['y_pred'], axis = 0)\n",
    "std_pred = jnp.std(svi_predictions['y_pred'], axis = 0)\n",
    "x_idx = jnp.argsort(x_test_scaled[:, 0])\n",
    "\n",
    "# make plots\n",
    "fig, ax = plt.subplots(1, figsize=(6, 6), constrained_layout=True)\n",
    "\n",
    "# plot training data\n",
    "ax.plot(x_test_scaled[:, 0], y_test, '.', label = 'Samples for testing')\n",
    "# plot mean prediction\n",
    "ax.plot(x_test_scaled[:, 0][x_idx], mean_pred[x_idx], color = \"purple\", ls=\"solid\", lw=2.0, label = 'Prediction mean')\n",
    "# plot true mean\n",
    "ax.plot(x_test_scaled[:, 0][x_idx], m_Yt[x_idx], color = \"red\", ls=\"solid\", lw=2.0, label = 'True mean')\n",
    "#plot uncertainty\n",
    "ax.fill_between(x_test_scaled[:, 0][x_idx], mean_pred[x_idx] -2*std_pred[x_idx], mean_pred[x_idx] + 2*std_pred[x_idx], alpha = 0.2, label = 'Uncertainty')\n",
    "ax.set(xlabel=\"X\", ylabel=\"Y\", title=\"SVI\")\n",
    "fig.legend()"
   ]
  },
  {
   "cell_type": "code",
   "execution_count": null,
   "metadata": {
    "colab": {
     "base_uri": "https://localhost:8080/",
     "height": 447
    },
    "id": "9Flvor2oEqLE",
    "outputId": "660685e9-0c4e-44d2-db1a-88bbc1fad01b"
   },
   "outputs": [],
   "source": [
    "plt.plot(jnp.arange(len(svi_losses)), -svi_losses, linewidth = 0.5, label = 'ELBO')\n",
    "plt.legend()"
   ]
  },
  {
   "cell_type": "markdown",
   "metadata": {
    "id": "JanKCQmIOm7H"
   },
   "source": [
    "Let's compare the predictive accuracy and the evaluate the uncertainty by counting the number of points contined within the credible interval for different levels"
   ]
  },
  {
   "cell_type": "code",
   "execution_count": null,
   "metadata": {
    "colab": {
     "base_uri": "https://localhost:8080/"
    },
    "id": "Tz8l7JzTOlJF",
    "outputId": "69ee5b55-0549-46b7-93b8-be12bade4872"
   },
   "outputs": [],
   "source": [
    "# MSE and R2\n",
    "from sklearn.metrics import mean_squared_error, r2_score\n",
    "\n",
    "print('MSE for the outputs is ', mean_squared_error(y_test,mean_pred))\n",
    "print('MSE for the function is ', mean_squared_error(m_Yt,mean_pred))\n",
    "print('R2 for the outputs is ', r2_score(y_test,mean_pred))"
   ]
  },
  {
   "cell_type": "code",
   "execution_count": null,
   "metadata": {
    "colab": {
     "base_uri": "https://localhost:8080/",
     "height": 430
    },
    "id": "MFKwb702Y4d4",
    "outputId": "58d429c9-5d8a-4de0-d266-9501bbb3ee0e"
   },
   "outputs": [],
   "source": [
    "q = np.arange(0.5,1,0.01)\n",
    "ec = np.zeros(q.shape)\n",
    "\n",
    "for i in range(q.shape[0]):\n",
    "  # Compute credible interval\n",
    "  lower_pred = np.quantile(svi_predictions['y_pred'], q = (1-q[i])/2, axis = 0)\n",
    "  upper_pred = np.quantile(svi_predictions['y_pred'], q = q[i]+ (1-q[i])/2, axis = 0)\n",
    "  # Summarize coverage\n",
    "  ec[i]= np.sum((m_Yt>lower_pred)&(m_Yt<upper_pred))/N_test\n",
    "\n",
    "plt.plot(q, ec, linewidth = 2, label = 'Empirical Coverage')\n",
    "plt.plot(q,q, linestyle = 'dashed', linewidth = 2)\n",
    "plt.legend()\n",
    "plt.show()"
   ]
  },
  {
   "cell_type": "markdown",
   "metadata": {
    "id": "dwKSIS7eiM2q"
   },
   "source": [
    "## Exercises\n",
    "1. See how the results change by altering different settings:\n",
    "  *   increasing the number of hidden units\n",
    "  *   change the prior to Laplace (`dist.Laplace`)\n",
    "  *   change the hyperparameters of the Gamma priors.\n",
    "2. Try changing the variational posterior, e.g. to `AutoMultivariateNormal` to remove the mean-field assumption, or `AutoDelta` for MAP estimation.\n",
    "3. Try adding another layer"
   ]
  },
  {
   "cell_type": "markdown",
   "metadata": {
    "id": "hJ_kAzlmEqLE"
   },
   "source": [
    "## MCMC\n",
    "\n",
    "Now, let's compare with MCMC. Here we will use the NUTS (no-U-turn sampler). For other MCMC algorithms and options, see https://num.pyro.ai/en/stable/mcmc.html\n"
   ]
  },
  {
   "cell_type": "code",
   "execution_count": null,
   "metadata": {
    "id": "C9R95lZeEqLE"
   },
   "outputs": [],
   "source": [
    "\n",
    "def run_mcmc(model, num_chains, num_samples, num_warmup, rng_key, x, y, hidden_dim):\n",
    "    start = time.time()\n",
    "    kernel = NUTS(model)\n",
    "    mcmc = MCMC(\n",
    "        kernel,\n",
    "        num_warmup=num_warmup,\n",
    "        num_samples=num_samples,\n",
    "        num_chains=num_chains,\n",
    "        progress_bar=False if \"NUMPYRO_SPHINXBUILD\" in os.environ else True,\n",
    "    )\n",
    "    mcmc.run(rng_key = rng_key, x=x, y=y, hidden_dim = hidden_dim)\n",
    "    # mcmc.print_summary()\n",
    "    print(\"\\nMCMC  time:\", time.time() - start)\n",
    "    return mcmc.get_samples()"
   ]
  },
  {
   "cell_type": "code",
   "execution_count": null,
   "metadata": {
    "id": "0g_wG6sREqLF"
   },
   "outputs": [],
   "source": [
    "num_warmup=2000\n",
    "num_samples=5000\n",
    "num_chains=1\n",
    "numpyro.set_host_device_count(num_chains)\n",
    "D_h = 20"
   ]
  },
  {
   "cell_type": "code",
   "execution_count": null,
   "metadata": {
    "colab": {
     "base_uri": "https://localhost:8080/"
    },
    "id": "ugDn2TslEqLF",
    "outputId": "52438959-a464-4493-8ae1-f4c071e4b295"
   },
   "outputs": [],
   "source": [
    "posterior_samples = run_mcmc(model = model,  num_chains = num_chains,num_samples = num_samples, num_warmup = num_warmup, rng_key = rng_key, x = x_train_scaled, y = y_train, hidden_dim=D_h)"
   ]
  },
  {
   "cell_type": "code",
   "execution_count": null,
   "metadata": {
    "id": "3azfA8oUEqLF"
   },
   "outputs": [],
   "source": [
    "predictive = Predictive(model = model, posterior_samples=posterior_samples)\n",
    "predictions = predictive(rng_key = rng_key_predict, x=x_test_scaled, y = None, hidden_dim = D_h)"
   ]
  },
  {
   "cell_type": "code",
   "execution_count": null,
   "metadata": {
    "colab": {
     "base_uri": "https://localhost:8080/",
     "height": 645
    },
    "id": "gfpahS3fEqLF",
    "outputId": "71dc55cd-f166-45b7-c98e-d331ba5d248a"
   },
   "outputs": [],
   "source": [
    "\n",
    "mean_pred = jnp.mean(predictions['y_pred'], axis = 0)\n",
    "lower_pred = jnp.quantile(svi_predictions['y_pred'], q = 0.0275, axis = 0)\n",
    "upper_pred = jnp.quantile(svi_predictions['y_pred'], q = 0.975, axis = 0)\n",
    "x_idx = jnp.argsort(x_test_scaled[:, 0])\n",
    "\n",
    "# make plots\n",
    "fig, ax = plt.subplots(1, figsize=(6, 6), constrained_layout=True)\n",
    "\n",
    "# plot training data\n",
    "ax.plot(x_test_scaled[:, 0], y_test, '.', label = 'Samples for testing')\n",
    "# plot mean prediction\n",
    "# ax.plot(x_test_scaled[:, 0], mean_pred[:, 0], '.')\n",
    "ax.plot(x_test_scaled[:, 0][x_idx], mean_pred[x_idx], color = \"purple\", ls=\"solid\", lw=2.0, label = 'Prediction mean')\n",
    "#plot uncertainty\n",
    "ax.fill_between(x_test_scaled[:, 0][x_idx], lower_pred[x_idx], upper_pred[x_idx], alpha = 0.2, label = 'Uncertainty')\n",
    "ax.set(xlabel=\"X\", ylabel=\"Y\", title=\"MCMC\")\n",
    "fig.legend()"
   ]
  },
  {
   "cell_type": "markdown",
   "metadata": {
    "id": "IiEQ-S5HKsBq"
   },
   "source": [
    "Let's compare the predictive accuracy and uncertainty with VB."
   ]
  },
  {
   "cell_type": "code",
   "execution_count": null,
   "metadata": {
    "colab": {
     "base_uri": "https://localhost:8080/"
    },
    "id": "WgiAwO0PK1Sv",
    "outputId": "beb155c7-acf9-4575-8db8-4cefa49414c3"
   },
   "outputs": [],
   "source": [
    "# MSE and R2\n",
    "print('MSE for the outputs is ', mean_squared_error(y_test,mean_pred))\n",
    "print('MSE for the function is ', mean_squared_error(m_Yt,mean_pred))\n",
    "print('R2 for the outputs is ', r2_score(y_test,mean_pred))"
   ]
  },
  {
   "cell_type": "code",
   "execution_count": null,
   "metadata": {
    "colab": {
     "base_uri": "https://localhost:8080/",
     "height": 430
    },
    "id": "YBlzKWjCLPe9",
    "outputId": "4726c422-35c0-4122-9a6f-e69a70ab4292"
   },
   "outputs": [],
   "source": [
    "q = np.arange(0.5,1,0.01)\n",
    "ec_mcmc = np.zeros(q.shape)\n",
    "\n",
    "for i in range(q.shape[0]):\n",
    "  # Compute credible interval\n",
    "  lower_pred = np.quantile(predictions['y_pred'], q = (1-q[i])/2, axis = 0)\n",
    "  upper_pred = np.quantile(predictions['y_pred'], q = q[i]+ (1-q[i])/2, axis = 0)\n",
    "  # Summarize coverage\n",
    "  ec_mcmc[i]= np.sum((m_Yt>lower_pred)&(m_Yt<upper_pred))/N_test\n",
    "\n",
    "plt.plot(q, ec, linewidth = 2, label = 'VB')\n",
    "plt.plot(q,q, linestyle = 'dashed', linewidth = 2)\n",
    "plt.plot(q, ec_mcmc, linewidth = 2, label = 'MCMC')\n",
    "plt.legend()\n",
    "plt.show()"
   ]
  }
 ],
 "metadata": {
  "colab": {
   "provenance": []
  },
  "kernelspec": {
   "display_name": "Python 3 (ipykernel)",
   "language": "python",
   "name": "python3"
  },
  "language_info": {
   "codemirror_mode": {
    "name": "ipython",
    "version": 3
   },
   "file_extension": ".py",
   "mimetype": "text/x-python",
   "name": "python",
   "nbconvert_exporter": "python",
   "pygments_lexer": "ipython3",
   "version": "3.9.7"
  }
 },
 "nbformat": 4,
 "nbformat_minor": 1
}
